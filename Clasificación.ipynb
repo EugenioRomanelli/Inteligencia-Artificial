{
  "nbformat": 4,
  "nbformat_minor": 0,
  "metadata": {
    "colab": {
      "provenance": []
    },
    "kernelspec": {
      "name": "python3",
      "display_name": "Python 3"
    }
  },
  "cells": [
    {
      "cell_type": "markdown",
      "source": [
        "# TP - Técnicas de Clasificación"
      ],
      "metadata": {
        "id": "-NwqWwwKT1LT"
      }
    },
    {
      "cell_type": "markdown",
      "source": [
        "**a) Definir cuál es el objetivo de aplicar técnicas de clasificación (sobre el dataset elegido).**\n",
        "\n",
        "> El objetivo de aplicar técnicas de clasificación en el dataset elegido es poder reconocer correos electrónicos no de deseados en base a 58 caracteristicas evaluadas en 4600 instancias.\n"
      ],
      "metadata": {
        "id": "kf5rjL6rTPGp"
      }
    },
    {
      "cell_type": "markdown",
      "metadata": {
        "id": "TBa27anBBdm4"
      },
      "source": [
        "Cargamos la librería que nos permite acceder al dataset"
      ]
    },
    {
      "cell_type": "code",
      "metadata": {
        "id": "i7IQFPl9BZ3j",
        "colab": {
          "base_uri": "https://localhost:8080/"
        },
        "outputId": "cebbab00-4b30-451c-88c8-0b9b7c131a08"
      },
      "source": [
        "# soporte para cargar dataset de https://www.openml.org/\n",
        "!pip install openml\n",
        "import openml"
      ],
      "execution_count": null,
      "outputs": [
        {
          "output_type": "stream",
          "name": "stdout",
          "text": [
            "Looking in indexes: https://pypi.org/simple, https://us-python.pkg.dev/colab-wheels/public/simple/\n",
            "Collecting openml\n",
            "  Downloading openml-0.12.2.tar.gz (119 kB)\n",
            "\u001b[K     |████████████████████████████████| 119 kB 7.8 MB/s \n",
            "\u001b[?25hCollecting liac-arff>=2.4.0\n",
            "  Downloading liac-arff-2.5.0.tar.gz (13 kB)\n",
            "Collecting xmltodict\n",
            "  Downloading xmltodict-0.13.0-py2.py3-none-any.whl (10.0 kB)\n",
            "Requirement already satisfied: requests in /usr/local/lib/python3.7/dist-packages (from openml) (2.23.0)\n",
            "Requirement already satisfied: scikit-learn>=0.18 in /usr/local/lib/python3.7/dist-packages (from openml) (1.0.2)\n",
            "Requirement already satisfied: python-dateutil in /usr/local/lib/python3.7/dist-packages (from openml) (2.8.2)\n",
            "Requirement already satisfied: pandas>=1.0.0 in /usr/local/lib/python3.7/dist-packages (from openml) (1.3.5)\n",
            "Requirement already satisfied: scipy>=0.13.3 in /usr/local/lib/python3.7/dist-packages (from openml) (1.4.1)\n",
            "Requirement already satisfied: numpy>=1.6.2 in /usr/local/lib/python3.7/dist-packages (from openml) (1.21.6)\n",
            "Collecting minio\n",
            "  Downloading minio-7.1.9-py3-none-any.whl (76 kB)\n",
            "\u001b[K     |████████████████████████████████| 76 kB 3.7 MB/s \n",
            "\u001b[?25hRequirement already satisfied: pyarrow in /usr/local/lib/python3.7/dist-packages (from openml) (6.0.1)\n",
            "Requirement already satisfied: pytz>=2017.3 in /usr/local/lib/python3.7/dist-packages (from pandas>=1.0.0->openml) (2022.1)\n",
            "Requirement already satisfied: six>=1.5 in /usr/local/lib/python3.7/dist-packages (from python-dateutil->openml) (1.15.0)\n",
            "Requirement already satisfied: joblib>=0.11 in /usr/local/lib/python3.7/dist-packages (from scikit-learn>=0.18->openml) (1.1.0)\n",
            "Requirement already satisfied: threadpoolctl>=2.0.0 in /usr/local/lib/python3.7/dist-packages (from scikit-learn>=0.18->openml) (3.1.0)\n",
            "Requirement already satisfied: urllib3 in /usr/local/lib/python3.7/dist-packages (from minio->openml) (1.24.3)\n",
            "Requirement already satisfied: certifi in /usr/local/lib/python3.7/dist-packages (from minio->openml) (2022.6.15)\n",
            "Requirement already satisfied: chardet<4,>=3.0.2 in /usr/local/lib/python3.7/dist-packages (from requests->openml) (3.0.4)\n",
            "Requirement already satisfied: idna<3,>=2.5 in /usr/local/lib/python3.7/dist-packages (from requests->openml) (2.10)\n",
            "Building wheels for collected packages: openml, liac-arff\n",
            "  Building wheel for openml (setup.py) ... \u001b[?25l\u001b[?25hdone\n",
            "  Created wheel for openml: filename=openml-0.12.2-py3-none-any.whl size=137326 sha256=5715cab94c7dafc7228f1cb0fa210c275c5aeeb2f7dda7b9444ea42816d9731e\n",
            "  Stored in directory: /root/.cache/pip/wheels/6a/20/88/cf4ac86aa18e2cd647ed16ebe274a5dacee9d0075fa02af250\n",
            "  Building wheel for liac-arff (setup.py) ... \u001b[?25l\u001b[?25hdone\n",
            "  Created wheel for liac-arff: filename=liac_arff-2.5.0-py3-none-any.whl size=11732 sha256=6614c2cd01739e8a4fa5948bf4ba444363026b48b97cfa60b0f0f1ada340011d\n",
            "  Stored in directory: /root/.cache/pip/wheels/1f/0f/15/332ca86cbebf25ddf98518caaf887945fbe1712b97a0f2493b\n",
            "Successfully built openml liac-arff\n",
            "Installing collected packages: xmltodict, minio, liac-arff, openml\n",
            "Successfully installed liac-arff-2.5.0 minio-7.1.9 openml-0.12.2 xmltodict-0.13.0\n"
          ]
        }
      ]
    },
    {
      "cell_type": "markdown",
      "metadata": {
        "id": "zoJFB9ZJBpB9"
      },
      "source": [
        "Accedemos al dataset"
      ]
    },
    {
      "cell_type": "code",
      "metadata": {
        "colab": {
          "base_uri": "https://localhost:8080/",
          "height": 488
        },
        "outputId": "61465a96-09d9-4fc9-9fe7-345025d51e23",
        "id": "vYPCKCp43EL5"
      },
      "source": [
        "import pandas as pd\n",
        "\n",
        "# Seleccionamos el dataset Spambase de OPENML\n",
        "dataset = openml.datasets.get_dataset(44)   #Detaset Spambase\n",
        "\n",
        "# separamos las información almacenada en el dataset\n",
        "X, y, categorical_indicator, attribute_names = dataset.get_data(\n",
        "    dataset_format='dataframe',\n",
        "    target=dataset.default_target_attribute\n",
        ")\n",
        "\n",
        "#  concatenamos la información relevante en un único DataFrame \n",
        "df = pd.concat([X, y], axis=1)\n",
        "df"
      ],
      "execution_count": null,
      "outputs": [
        {
          "output_type": "execute_result",
          "data": {
            "text/plain": [
              "      word_freq_make  word_freq_address  word_freq_all  word_freq_3d  \\\n",
              "0               0.00               0.64           0.64           0.0   \n",
              "1               0.21               0.28           0.50           0.0   \n",
              "2               0.06               0.00           0.71           0.0   \n",
              "3               0.00               0.00           0.00           0.0   \n",
              "4               0.00               0.00           0.00           0.0   \n",
              "...              ...                ...            ...           ...   \n",
              "4596            0.31               0.00           0.62           0.0   \n",
              "4597            0.00               0.00           0.00           0.0   \n",
              "4598            0.30               0.00           0.30           0.0   \n",
              "4599            0.96               0.00           0.00           0.0   \n",
              "4600            0.00               0.00           0.65           0.0   \n",
              "\n",
              "      word_freq_our  word_freq_over  word_freq_remove  word_freq_internet  \\\n",
              "0              0.32            0.00              0.00                0.00   \n",
              "1              0.14            0.28              0.21                0.07   \n",
              "2              1.23            0.19              0.19                0.12   \n",
              "3              0.63            0.00              0.31                0.63   \n",
              "4              0.63            0.00              0.31                0.63   \n",
              "...             ...             ...               ...                 ...   \n",
              "4596           0.00            0.31              0.00                0.00   \n",
              "4597           0.00            0.00              0.00                0.00   \n",
              "4598           0.00            0.00              0.00                0.00   \n",
              "4599           0.32            0.00              0.00                0.00   \n",
              "4600           0.00            0.00              0.00                0.00   \n",
              "\n",
              "      word_freq_order  word_freq_mail  ...  char_freq_%3B  char_freq_%28  \\\n",
              "0                0.00            0.00  ...          0.000          0.000   \n",
              "1                0.00            0.94  ...          0.000          0.132   \n",
              "2                0.64            0.25  ...          0.010          0.143   \n",
              "3                0.31            0.63  ...          0.000          0.137   \n",
              "4                0.31            0.63  ...          0.000          0.135   \n",
              "...               ...             ...  ...            ...            ...   \n",
              "4596             0.00            0.00  ...          0.000          0.232   \n",
              "4597             0.00            0.00  ...          0.000          0.000   \n",
              "4598             0.00            0.00  ...          0.102          0.718   \n",
              "4599             0.00            0.00  ...          0.000          0.057   \n",
              "4600             0.00            0.00  ...          0.000          0.000   \n",
              "\n",
              "      char_freq_%5B  char_freq_%21  char_freq_%24  char_freq_%23  \\\n",
              "0               0.0          0.778          0.000          0.000   \n",
              "1               0.0          0.372          0.180          0.048   \n",
              "2               0.0          0.276          0.184          0.010   \n",
              "3               0.0          0.137          0.000          0.000   \n",
              "4               0.0          0.135          0.000          0.000   \n",
              "...             ...            ...            ...            ...   \n",
              "4596            0.0          0.000          0.000          0.000   \n",
              "4597            0.0          0.353          0.000          0.000   \n",
              "4598            0.0          0.000          0.000          0.000   \n",
              "4599            0.0          0.000          0.000          0.000   \n",
              "4600            0.0          0.125          0.000          0.000   \n",
              "\n",
              "      capital_run_length_average  capital_run_length_longest  \\\n",
              "0                          3.756                          61   \n",
              "1                          5.114                         101   \n",
              "2                          9.821                         485   \n",
              "3                          3.537                          40   \n",
              "4                          3.537                          40   \n",
              "...                          ...                         ...   \n",
              "4596                       1.142                           3   \n",
              "4597                       1.555                           4   \n",
              "4598                       1.404                           6   \n",
              "4599                       1.147                           5   \n",
              "4600                       1.250                           5   \n",
              "\n",
              "      capital_run_length_total  class  \n",
              "0                          278      1  \n",
              "1                         1028      1  \n",
              "2                         2259      1  \n",
              "3                          191      1  \n",
              "4                          191      1  \n",
              "...                        ...    ...  \n",
              "4596                        88      0  \n",
              "4597                        14      0  \n",
              "4598                       118      0  \n",
              "4599                        78      0  \n",
              "4600                        40      0  \n",
              "\n",
              "[4601 rows x 58 columns]"
            ],
            "text/html": [
              "\n",
              "  <div id=\"df-877d6fd0-f062-4261-aaa5-8b3d2f1af084\">\n",
              "    <div class=\"colab-df-container\">\n",
              "      <div>\n",
              "<style scoped>\n",
              "    .dataframe tbody tr th:only-of-type {\n",
              "        vertical-align: middle;\n",
              "    }\n",
              "\n",
              "    .dataframe tbody tr th {\n",
              "        vertical-align: top;\n",
              "    }\n",
              "\n",
              "    .dataframe thead th {\n",
              "        text-align: right;\n",
              "    }\n",
              "</style>\n",
              "<table border=\"1\" class=\"dataframe\">\n",
              "  <thead>\n",
              "    <tr style=\"text-align: right;\">\n",
              "      <th></th>\n",
              "      <th>word_freq_make</th>\n",
              "      <th>word_freq_address</th>\n",
              "      <th>word_freq_all</th>\n",
              "      <th>word_freq_3d</th>\n",
              "      <th>word_freq_our</th>\n",
              "      <th>word_freq_over</th>\n",
              "      <th>word_freq_remove</th>\n",
              "      <th>word_freq_internet</th>\n",
              "      <th>word_freq_order</th>\n",
              "      <th>word_freq_mail</th>\n",
              "      <th>...</th>\n",
              "      <th>char_freq_%3B</th>\n",
              "      <th>char_freq_%28</th>\n",
              "      <th>char_freq_%5B</th>\n",
              "      <th>char_freq_%21</th>\n",
              "      <th>char_freq_%24</th>\n",
              "      <th>char_freq_%23</th>\n",
              "      <th>capital_run_length_average</th>\n",
              "      <th>capital_run_length_longest</th>\n",
              "      <th>capital_run_length_total</th>\n",
              "      <th>class</th>\n",
              "    </tr>\n",
              "  </thead>\n",
              "  <tbody>\n",
              "    <tr>\n",
              "      <th>0</th>\n",
              "      <td>0.00</td>\n",
              "      <td>0.64</td>\n",
              "      <td>0.64</td>\n",
              "      <td>0.0</td>\n",
              "      <td>0.32</td>\n",
              "      <td>0.00</td>\n",
              "      <td>0.00</td>\n",
              "      <td>0.00</td>\n",
              "      <td>0.00</td>\n",
              "      <td>0.00</td>\n",
              "      <td>...</td>\n",
              "      <td>0.000</td>\n",
              "      <td>0.000</td>\n",
              "      <td>0.0</td>\n",
              "      <td>0.778</td>\n",
              "      <td>0.000</td>\n",
              "      <td>0.000</td>\n",
              "      <td>3.756</td>\n",
              "      <td>61</td>\n",
              "      <td>278</td>\n",
              "      <td>1</td>\n",
              "    </tr>\n",
              "    <tr>\n",
              "      <th>1</th>\n",
              "      <td>0.21</td>\n",
              "      <td>0.28</td>\n",
              "      <td>0.50</td>\n",
              "      <td>0.0</td>\n",
              "      <td>0.14</td>\n",
              "      <td>0.28</td>\n",
              "      <td>0.21</td>\n",
              "      <td>0.07</td>\n",
              "      <td>0.00</td>\n",
              "      <td>0.94</td>\n",
              "      <td>...</td>\n",
              "      <td>0.000</td>\n",
              "      <td>0.132</td>\n",
              "      <td>0.0</td>\n",
              "      <td>0.372</td>\n",
              "      <td>0.180</td>\n",
              "      <td>0.048</td>\n",
              "      <td>5.114</td>\n",
              "      <td>101</td>\n",
              "      <td>1028</td>\n",
              "      <td>1</td>\n",
              "    </tr>\n",
              "    <tr>\n",
              "      <th>2</th>\n",
              "      <td>0.06</td>\n",
              "      <td>0.00</td>\n",
              "      <td>0.71</td>\n",
              "      <td>0.0</td>\n",
              "      <td>1.23</td>\n",
              "      <td>0.19</td>\n",
              "      <td>0.19</td>\n",
              "      <td>0.12</td>\n",
              "      <td>0.64</td>\n",
              "      <td>0.25</td>\n",
              "      <td>...</td>\n",
              "      <td>0.010</td>\n",
              "      <td>0.143</td>\n",
              "      <td>0.0</td>\n",
              "      <td>0.276</td>\n",
              "      <td>0.184</td>\n",
              "      <td>0.010</td>\n",
              "      <td>9.821</td>\n",
              "      <td>485</td>\n",
              "      <td>2259</td>\n",
              "      <td>1</td>\n",
              "    </tr>\n",
              "    <tr>\n",
              "      <th>3</th>\n",
              "      <td>0.00</td>\n",
              "      <td>0.00</td>\n",
              "      <td>0.00</td>\n",
              "      <td>0.0</td>\n",
              "      <td>0.63</td>\n",
              "      <td>0.00</td>\n",
              "      <td>0.31</td>\n",
              "      <td>0.63</td>\n",
              "      <td>0.31</td>\n",
              "      <td>0.63</td>\n",
              "      <td>...</td>\n",
              "      <td>0.000</td>\n",
              "      <td>0.137</td>\n",
              "      <td>0.0</td>\n",
              "      <td>0.137</td>\n",
              "      <td>0.000</td>\n",
              "      <td>0.000</td>\n",
              "      <td>3.537</td>\n",
              "      <td>40</td>\n",
              "      <td>191</td>\n",
              "      <td>1</td>\n",
              "    </tr>\n",
              "    <tr>\n",
              "      <th>4</th>\n",
              "      <td>0.00</td>\n",
              "      <td>0.00</td>\n",
              "      <td>0.00</td>\n",
              "      <td>0.0</td>\n",
              "      <td>0.63</td>\n",
              "      <td>0.00</td>\n",
              "      <td>0.31</td>\n",
              "      <td>0.63</td>\n",
              "      <td>0.31</td>\n",
              "      <td>0.63</td>\n",
              "      <td>...</td>\n",
              "      <td>0.000</td>\n",
              "      <td>0.135</td>\n",
              "      <td>0.0</td>\n",
              "      <td>0.135</td>\n",
              "      <td>0.000</td>\n",
              "      <td>0.000</td>\n",
              "      <td>3.537</td>\n",
              "      <td>40</td>\n",
              "      <td>191</td>\n",
              "      <td>1</td>\n",
              "    </tr>\n",
              "    <tr>\n",
              "      <th>...</th>\n",
              "      <td>...</td>\n",
              "      <td>...</td>\n",
              "      <td>...</td>\n",
              "      <td>...</td>\n",
              "      <td>...</td>\n",
              "      <td>...</td>\n",
              "      <td>...</td>\n",
              "      <td>...</td>\n",
              "      <td>...</td>\n",
              "      <td>...</td>\n",
              "      <td>...</td>\n",
              "      <td>...</td>\n",
              "      <td>...</td>\n",
              "      <td>...</td>\n",
              "      <td>...</td>\n",
              "      <td>...</td>\n",
              "      <td>...</td>\n",
              "      <td>...</td>\n",
              "      <td>...</td>\n",
              "      <td>...</td>\n",
              "      <td>...</td>\n",
              "    </tr>\n",
              "    <tr>\n",
              "      <th>4596</th>\n",
              "      <td>0.31</td>\n",
              "      <td>0.00</td>\n",
              "      <td>0.62</td>\n",
              "      <td>0.0</td>\n",
              "      <td>0.00</td>\n",
              "      <td>0.31</td>\n",
              "      <td>0.00</td>\n",
              "      <td>0.00</td>\n",
              "      <td>0.00</td>\n",
              "      <td>0.00</td>\n",
              "      <td>...</td>\n",
              "      <td>0.000</td>\n",
              "      <td>0.232</td>\n",
              "      <td>0.0</td>\n",
              "      <td>0.000</td>\n",
              "      <td>0.000</td>\n",
              "      <td>0.000</td>\n",
              "      <td>1.142</td>\n",
              "      <td>3</td>\n",
              "      <td>88</td>\n",
              "      <td>0</td>\n",
              "    </tr>\n",
              "    <tr>\n",
              "      <th>4597</th>\n",
              "      <td>0.00</td>\n",
              "      <td>0.00</td>\n",
              "      <td>0.00</td>\n",
              "      <td>0.0</td>\n",
              "      <td>0.00</td>\n",
              "      <td>0.00</td>\n",
              "      <td>0.00</td>\n",
              "      <td>0.00</td>\n",
              "      <td>0.00</td>\n",
              "      <td>0.00</td>\n",
              "      <td>...</td>\n",
              "      <td>0.000</td>\n",
              "      <td>0.000</td>\n",
              "      <td>0.0</td>\n",
              "      <td>0.353</td>\n",
              "      <td>0.000</td>\n",
              "      <td>0.000</td>\n",
              "      <td>1.555</td>\n",
              "      <td>4</td>\n",
              "      <td>14</td>\n",
              "      <td>0</td>\n",
              "    </tr>\n",
              "    <tr>\n",
              "      <th>4598</th>\n",
              "      <td>0.30</td>\n",
              "      <td>0.00</td>\n",
              "      <td>0.30</td>\n",
              "      <td>0.0</td>\n",
              "      <td>0.00</td>\n",
              "      <td>0.00</td>\n",
              "      <td>0.00</td>\n",
              "      <td>0.00</td>\n",
              "      <td>0.00</td>\n",
              "      <td>0.00</td>\n",
              "      <td>...</td>\n",
              "      <td>0.102</td>\n",
              "      <td>0.718</td>\n",
              "      <td>0.0</td>\n",
              "      <td>0.000</td>\n",
              "      <td>0.000</td>\n",
              "      <td>0.000</td>\n",
              "      <td>1.404</td>\n",
              "      <td>6</td>\n",
              "      <td>118</td>\n",
              "      <td>0</td>\n",
              "    </tr>\n",
              "    <tr>\n",
              "      <th>4599</th>\n",
              "      <td>0.96</td>\n",
              "      <td>0.00</td>\n",
              "      <td>0.00</td>\n",
              "      <td>0.0</td>\n",
              "      <td>0.32</td>\n",
              "      <td>0.00</td>\n",
              "      <td>0.00</td>\n",
              "      <td>0.00</td>\n",
              "      <td>0.00</td>\n",
              "      <td>0.00</td>\n",
              "      <td>...</td>\n",
              "      <td>0.000</td>\n",
              "      <td>0.057</td>\n",
              "      <td>0.0</td>\n",
              "      <td>0.000</td>\n",
              "      <td>0.000</td>\n",
              "      <td>0.000</td>\n",
              "      <td>1.147</td>\n",
              "      <td>5</td>\n",
              "      <td>78</td>\n",
              "      <td>0</td>\n",
              "    </tr>\n",
              "    <tr>\n",
              "      <th>4600</th>\n",
              "      <td>0.00</td>\n",
              "      <td>0.00</td>\n",
              "      <td>0.65</td>\n",
              "      <td>0.0</td>\n",
              "      <td>0.00</td>\n",
              "      <td>0.00</td>\n",
              "      <td>0.00</td>\n",
              "      <td>0.00</td>\n",
              "      <td>0.00</td>\n",
              "      <td>0.00</td>\n",
              "      <td>...</td>\n",
              "      <td>0.000</td>\n",
              "      <td>0.000</td>\n",
              "      <td>0.0</td>\n",
              "      <td>0.125</td>\n",
              "      <td>0.000</td>\n",
              "      <td>0.000</td>\n",
              "      <td>1.250</td>\n",
              "      <td>5</td>\n",
              "      <td>40</td>\n",
              "      <td>0</td>\n",
              "    </tr>\n",
              "  </tbody>\n",
              "</table>\n",
              "<p>4601 rows × 58 columns</p>\n",
              "</div>\n",
              "      <button class=\"colab-df-convert\" onclick=\"convertToInteractive('df-877d6fd0-f062-4261-aaa5-8b3d2f1af084')\"\n",
              "              title=\"Convert this dataframe to an interactive table.\"\n",
              "              style=\"display:none;\">\n",
              "        \n",
              "  <svg xmlns=\"http://www.w3.org/2000/svg\" height=\"24px\"viewBox=\"0 0 24 24\"\n",
              "       width=\"24px\">\n",
              "    <path d=\"M0 0h24v24H0V0z\" fill=\"none\"/>\n",
              "    <path d=\"M18.56 5.44l.94 2.06.94-2.06 2.06-.94-2.06-.94-.94-2.06-.94 2.06-2.06.94zm-11 1L8.5 8.5l.94-2.06 2.06-.94-2.06-.94L8.5 2.5l-.94 2.06-2.06.94zm10 10l.94 2.06.94-2.06 2.06-.94-2.06-.94-.94-2.06-.94 2.06-2.06.94z\"/><path d=\"M17.41 7.96l-1.37-1.37c-.4-.4-.92-.59-1.43-.59-.52 0-1.04.2-1.43.59L10.3 9.45l-7.72 7.72c-.78.78-.78 2.05 0 2.83L4 21.41c.39.39.9.59 1.41.59.51 0 1.02-.2 1.41-.59l7.78-7.78 2.81-2.81c.8-.78.8-2.07 0-2.86zM5.41 20L4 18.59l7.72-7.72 1.47 1.35L5.41 20z\"/>\n",
              "  </svg>\n",
              "      </button>\n",
              "      \n",
              "  <style>\n",
              "    .colab-df-container {\n",
              "      display:flex;\n",
              "      flex-wrap:wrap;\n",
              "      gap: 12px;\n",
              "    }\n",
              "\n",
              "    .colab-df-convert {\n",
              "      background-color: #E8F0FE;\n",
              "      border: none;\n",
              "      border-radius: 50%;\n",
              "      cursor: pointer;\n",
              "      display: none;\n",
              "      fill: #1967D2;\n",
              "      height: 32px;\n",
              "      padding: 0 0 0 0;\n",
              "      width: 32px;\n",
              "    }\n",
              "\n",
              "    .colab-df-convert:hover {\n",
              "      background-color: #E2EBFA;\n",
              "      box-shadow: 0px 1px 2px rgba(60, 64, 67, 0.3), 0px 1px 3px 1px rgba(60, 64, 67, 0.15);\n",
              "      fill: #174EA6;\n",
              "    }\n",
              "\n",
              "    [theme=dark] .colab-df-convert {\n",
              "      background-color: #3B4455;\n",
              "      fill: #D2E3FC;\n",
              "    }\n",
              "\n",
              "    [theme=dark] .colab-df-convert:hover {\n",
              "      background-color: #434B5C;\n",
              "      box-shadow: 0px 1px 3px 1px rgba(0, 0, 0, 0.15);\n",
              "      filter: drop-shadow(0px 1px 2px rgba(0, 0, 0, 0.3));\n",
              "      fill: #FFFFFF;\n",
              "    }\n",
              "  </style>\n",
              "\n",
              "      <script>\n",
              "        const buttonEl =\n",
              "          document.querySelector('#df-877d6fd0-f062-4261-aaa5-8b3d2f1af084 button.colab-df-convert');\n",
              "        buttonEl.style.display =\n",
              "          google.colab.kernel.accessAllowed ? 'block' : 'none';\n",
              "\n",
              "        async function convertToInteractive(key) {\n",
              "          const element = document.querySelector('#df-877d6fd0-f062-4261-aaa5-8b3d2f1af084');\n",
              "          const dataTable =\n",
              "            await google.colab.kernel.invokeFunction('convertToInteractive',\n",
              "                                                     [key], {});\n",
              "          if (!dataTable) return;\n",
              "\n",
              "          const docLinkHtml = 'Like what you see? Visit the ' +\n",
              "            '<a target=\"_blank\" href=https://colab.research.google.com/notebooks/data_table.ipynb>data table notebook</a>'\n",
              "            + ' to learn more about interactive tables.';\n",
              "          element.innerHTML = '';\n",
              "          dataTable['output_type'] = 'display_data';\n",
              "          await google.colab.output.renderOutput(dataTable, element);\n",
              "          const docLink = document.createElement('div');\n",
              "          docLink.innerHTML = docLinkHtml;\n",
              "          element.appendChild(docLink);\n",
              "        }\n",
              "      </script>\n",
              "    </div>\n",
              "  </div>\n",
              "  "
            ]
          },
          "metadata": {},
          "execution_count": 2
        }
      ]
    },
    {
      "cell_type": "markdown",
      "source": [
        "**Información de atributos:**\n",
        "La última columna indica si el correo electrónico se consideró spam (1) o no (0), es decir, correo electrónico comercial no solicitado. La mayoría de los atributos indican si una palabra o carácter en particular aparecía con frecuencia en el correo electrónico. Los atributos de longitud de ejecución (55-57) miden la longitud de secuencias de letras mayúsculas consecutivas."
      ],
      "metadata": {
        "id": "XaZe1pTChVD7"
      }
    },
    {
      "cell_type": "markdown",
      "source": [
        "**b) En caso de ser necesario, definir qué pre‐procesamiento se realizará a los datos. Justificar.**\n",
        "\n",
        ">En este caso no fue necesario aplicar pre-procesamiento debido a que los atributos estan normalizados y no existen datos faltantes en el dataset.\n",
        "\n",
        "\n",
        "\n",
        "**d) Obtener dos clasificadores utilizando la librería Scikit learn. Para ello elegir 2 técnicas de clasificación, configurar los clasificadores, detallar de qué forma se evaluarán los clasificadores (hold-out / cross-validation), ejecutar los algoritmos. Justificar las decisiones tomadas.**\n",
        "\n",
        "> Para obtener los clasificadores utlizaremos la técnica de Arbol de Decisión y la técnica de Naive-Bayes.\n",
        "\n",
        "> En primera instancia los clasificadores se evaluaran con la técnica de Hold-out realizando una partición del dataset tomando 70% para training y 30% para testing.\n",
        "\n",
        "> En segunda instancia se evaluaran con la técnica de Cross Validation con un valor de cv=10, lo que indica que los datos seran separados en 10 folds, analizando las métricas precision_macro y recall_macro. \n",
        "\n",
        "\n",
        "**e) Evaluar los dos clasificadores y compararlos, indicando cual de los dos recomendaría.**\n",
        "\n"
      ],
      "metadata": {
        "id": "lry7Am7TUGCd"
      }
    },
    {
      "cell_type": "markdown",
      "metadata": {
        "id": "y5aCl-22ujjG"
      },
      "source": [
        "#Hold-out"
      ]
    },
    {
      "cell_type": "code",
      "metadata": {
        "id": "hqn88o0JK0t2",
        "colab": {
          "base_uri": "https://localhost:8080/"
        },
        "outputId": "a97914f0-04f4-481a-bee4-baf17ee192a9"
      },
      "source": [
        "from sklearn.model_selection import train_test_split\n",
        "\n",
        "# Realiza el split del dataset en training (70%) y testing (30%)\n",
        "X_train, X_test, y_train, y_test = train_test_split(X, y, test_size=0.3)\n",
        "# Conjunto de entrenamiento\n",
        "X_train\n",
        "\n",
        "\n",
        "#################### Árbol de Desición ########################\n",
        "from sklearn import tree\n",
        "\n",
        "# Entrena el clasificador \n",
        "clf_dtc = tree.DecisionTreeClassifier()\n",
        "clf_dtc.fit(X_train, y_train)\n",
        "\n",
        "# Evalua el clasificador\n",
        "print(\"Árbol de Desición:\", clf_dtc.score(X_test, y_test))  #Llama al predict con X_test y cmpara el resultado con y_test\n",
        "\n",
        "\n",
        "\n",
        "####################### Naive-Bayes ###########################\n",
        "from sklearn.naive_bayes import GaussianNB\n",
        "\n",
        "# Entrena el clasificador\n",
        "clf_bayes = GaussianNB()\n",
        "clf_bayes.fit(X_train, y_train)\n",
        "\n",
        "# Evalua el clasificador\n",
        "print(\"Naive-Bayes:\", clf_bayes.score(X_test, y_test))  #Llama al predict con X_test y cmpara el resultado con y_test\n",
        "\n",
        "\n"
      ],
      "execution_count": null,
      "outputs": [
        {
          "output_type": "stream",
          "name": "stdout",
          "text": [
            "Árbol de Desición: 0.9160028964518465\n",
            "Naive-Bayes: 0.8066618392469225\n"
          ]
        }
      ]
    },
    {
      "cell_type": "markdown",
      "metadata": {
        "id": "osVIdtdb76NU"
      },
      "source": [
        "#Cross Validation"
      ]
    },
    {
      "cell_type": "code",
      "metadata": {
        "id": "zEU_A9NTw-Kw",
        "colab": {
          "base_uri": "https://localhost:8080/"
        },
        "outputId": "4f56313c-6eb9-4127-9818-14d4e3f27e7c"
      },
      "source": [
        "from sklearn.model_selection import cross_validate\n",
        "from sklearn.metrics import recall_score\n",
        "\n",
        "\n",
        "#################### Árbol de Desición ########################\n",
        "print (\"\\n  Árbol de Desición  \")\n",
        "clf_dtc = tree.DecisionTreeClassifier()\n",
        "\n",
        "scoring = ['precision_macro', 'recall_macro']   #Las macro no tienen en cuenta el desbalanceo de clases\n",
        "scores = cross_validate(clf_dtc, X, y, scoring=scoring, cv=10)\n",
        "\n",
        "print(\"presicion_macro: \", scores['test_precision_macro'].mean())\n",
        "print(\"recall_macro: \", scores['test_recall_macro'].mean())\n",
        "print(\"Accuracy: %0.2f (+/- %0.2f)\" % (scores['test_precision_macro'].mean(), scores['test_recall_macro'].std()))\n",
        "\n",
        "\n",
        "####################### Naive-Bayes ###########################\n",
        "print (\"\\n  Naive-Bayes  \")\n",
        "clf_bayes = GaussianNB()\n",
        "\n",
        "scoring = ['precision_macro', 'recall_macro']   #Las macro no tienen en cuenta el desbalanceo de clases\n",
        "scores = cross_validate(clf_bayes, X, y, scoring=scoring, cv=10)\n",
        "\n",
        "print(\"presicion_macro: \", scores['test_precision_macro'].mean())\n",
        "print(\"recall_macro: \", scores['test_recall_macro'].mean())\n",
        "print(\"Accuracy: %0.2f (+/- %0.2f)\" % (scores['test_precision_macro'].mean(), scores['test_recall_macro'].std()))\n",
        "\n"
      ],
      "execution_count": null,
      "outputs": [
        {
          "output_type": "stream",
          "name": "stdout",
          "text": [
            "\n",
            "  Árbol de Desición  \n",
            "presicion_macro:  0.8980494312906465\n",
            "recall_macro:  0.8964733341205751\n",
            "Accuracy: 0.90 (+/- 0.04)\n",
            "\n",
            "  Naive-Bayes  \n",
            "presicion_macro:  0.8355405680394657\n",
            "recall_macro:  0.8454293399090297\n",
            "Accuracy: 0.84 (+/- 0.07)\n"
          ]
        }
      ]
    },
    {
      "cell_type": "markdown",
      "source": [
        ">La precisión y el recall evaluan la clasificación sobre la clase positiva.\n",
        "\n",
        ">La precisión indica cuantos correos clasificados como spam, realmente lo eran. Por otro lado, el recall indica cuantos correos del total de correos spam fueron identificados."
      ],
      "metadata": {
        "id": "dkSV6NqZ_jjQ"
      }
    },
    {
      "cell_type": "markdown",
      "metadata": {
        "id": "kUbRKqo61qCv"
      },
      "source": [
        "Ahora evaluaremos las métricas utilizando predicciones con Cross Validation.\n"
      ]
    },
    {
      "cell_type": "code",
      "metadata": {
        "id": "TtPZIcFd1qKh",
        "colab": {
          "base_uri": "https://localhost:8080/"
        },
        "outputId": "a3686b24-7b8f-46f8-d832-2dfe561d04f0"
      },
      "source": [
        "from sklearn.model_selection import cross_val_predict\n",
        "\n",
        "print(y)\n",
        "#################### Árbol de Desición ########################\n",
        "print (\"\\n  Árbol de Desición  \")\n",
        "cross_val_predictions_dtc = cross_val_predict(clf_dtc, X, y, cv=10)\n",
        "print(cross_val_predictions_dtc)\n",
        "\n",
        "####################### Naive-Bayes ###########################\n",
        "print (\"\\n  Naive-Bayes  \")\n",
        "cross_val_predictions_bayes = cross_val_predict(clf_bayes, X, y, cv=10)\n",
        "print(cross_val_predictions_bayes)\n"
      ],
      "execution_count": null,
      "outputs": [
        {
          "output_type": "stream",
          "name": "stdout",
          "text": [
            "0       1\n",
            "1       1\n",
            "2       1\n",
            "3       1\n",
            "4       1\n",
            "       ..\n",
            "4596    0\n",
            "4597    0\n",
            "4598    0\n",
            "4599    0\n",
            "4600    0\n",
            "Name: class, Length: 4601, dtype: category\n",
            "Categories (2, object): ['0' < '1']\n",
            "\n",
            "  Árbol de Desición  \n",
            "['1' '1' '1' ... '0' '0' '0']\n",
            "\n",
            "  Naive-Bayes  \n",
            "['1' '1' '1' ... '0' '1' '0']\n"
          ]
        }
      ]
    },
    {
      "cell_type": "markdown",
      "source": [
        ">Esta evaluación no retorna las métricas computadas, sino que retorna predicciones de todo el conjunto de instancias con las que se evalua el modelo. "
      ],
      "metadata": {
        "id": "6tgCyKHvsuOF"
      }
    },
    {
      "cell_type": "markdown",
      "metadata": {
        "id": "UPmj9Ci-HD4c"
      },
      "source": [
        "Reporte por clases en base a las predicciones generadas"
      ]
    },
    {
      "cell_type": "code",
      "metadata": {
        "id": "7VyITgqMHDU-",
        "colab": {
          "base_uri": "https://localhost:8080/"
        },
        "outputId": "64abe278-766f-4b86-b73e-129da13ddfdd"
      },
      "source": [
        "from sklearn.metrics import classification_report\n",
        "\n",
        "#################### Árbol de Desición ########################\n",
        "print (\"\\n  Árbol de Desición  \")\n",
        "print(classification_report(y, cross_val_predictions_dtc, target_names=[\"No_Spam\", \"Spam\"]))\n",
        "\n",
        "\n",
        "####################### Naive-Bayes ###########################\n",
        "print (\"\\n  Naive-Bayes  \")\n",
        "print(classification_report(y, cross_val_predictions_bayes, target_names=[\"No_Spam\", \"Spam\"]))\n"
      ],
      "execution_count": null,
      "outputs": [
        {
          "output_type": "stream",
          "name": "stdout",
          "text": [
            "\n",
            "  Árbol de Desición  \n",
            "              precision    recall  f1-score   support\n",
            "\n",
            "     No_Spam       0.92      0.91      0.92      2788\n",
            "        Spam       0.87      0.88      0.87      1813\n",
            "\n",
            "    accuracy                           0.90      4601\n",
            "   macro avg       0.89      0.90      0.89      4601\n",
            "weighted avg       0.90      0.90      0.90      4601\n",
            "\n",
            "\n",
            "  Naive-Bayes  \n",
            "              precision    recall  f1-score   support\n",
            "\n",
            "     No_Spam       0.96      0.73      0.83      2788\n",
            "        Spam       0.70      0.96      0.81      1813\n",
            "\n",
            "    accuracy                           0.82      4601\n",
            "   macro avg       0.83      0.85      0.82      4601\n",
            "weighted avg       0.86      0.82      0.82      4601\n",
            "\n"
          ]
        }
      ]
    },
    {
      "cell_type": "markdown",
      "source": [
        "Es difícil comparar dos clasificadores usando dos medidas separadas. Para poder compararlos mejor, debemos observar la métrica F1-Score, que combina la presición y el recall en una métrica. Por lo tanto, F1-score es alto cuando la presición y el recall también lo son."
      ],
      "metadata": {
        "id": "PHctmnLEk9bj"
      }
    },
    {
      "cell_type": "markdown",
      "metadata": {
        "id": "j-DP-WZzz4Km"
      },
      "source": [
        "#Visualización de resultados\n",
        "Matriz de confusión utilizando ConfusionMatrixDisplay"
      ]
    },
    {
      "cell_type": "code",
      "metadata": {
        "id": "6oHaDbqLPlqy",
        "colab": {
          "base_uri": "https://localhost:8080/",
          "height": 603
        },
        "outputId": "085c3ac2-1595-4c08-981a-74eba71f038f"
      },
      "source": [
        "from sklearn.metrics import ConfusionMatrixDisplay  # Permite visualizar la matriz de confusión\n",
        "import matplotlib.pyplot as plt\n",
        "from sklearn.metrics import confusion_matrix\n",
        "\n",
        "conf_mat_dtc = confusion_matrix(y, cross_val_predictions_dtc, normalize='true') #normalize='true', 'pred', 'all'\n",
        "conf_mat_bayes = confusion_matrix(y, cross_val_predictions_bayes, normalize='true') #normalize='true', 'pred', 'all'\n",
        "\n",
        "\n",
        "#################### Árbol de Desición ########################\n",
        "disp_dtc = ConfusionMatrixDisplay(confusion_matrix=conf_mat_dtc, display_labels=[\"No Spam\",\"Spam\"])\n",
        "disp_dtc.plot(cmap=plt.cm.BuGn)\n",
        "disp_dtc.ax_.set_title(\"\\n Árbol de Desición\")\n",
        "\n",
        "####################### Naive-Bayes ###########################\n",
        "disp_bayes = ConfusionMatrixDisplay(confusion_matrix=conf_mat_bayes, display_labels=[\"No Spam\",\"Spam\"])\n",
        "disp_bayes.plot(cmap=plt.cm.Blues_r)\n",
        "disp_bayes.ax_.set_title(\"\\n Naive-Bayes\")\n",
        "\n",
        "plt.show()"
      ],
      "execution_count": null,
      "outputs": [
        {
          "output_type": "display_data",
          "data": {
            "text/plain": [
              "<Figure size 432x288 with 2 Axes>"
            ],
            "image/png": "[encoded data removed]"
          },
          "metadata": {
            "needs_background": "light"
          }
        },
        {
          "output_type": "display_data",
          "data": {
            "text/plain": [
              "<Figure size 432x288 with 2 Axes>"
            ],
            "image/png": "[encoded data removed]"
          },
          "metadata": {
            "needs_background": "light"
          }
        }
      ]
    },
    {
      "cell_type": "markdown",
      "source": [
        "# Modelo final\n",
        "\n",
        "Analizando las métricas obtenidas anteriormente para cada modelo, podemos ver que los datos arrojados por el modelo de árbol representan la mejor solución obtenida para nuestro problema. Por lo tanto, seleccionaremos dicho modelo para construir el modelo final.\n"
      ],
      "metadata": {
        "id": "-tKAQMmtOIcG"
      }
    },
    {
      "cell_type": "code",
      "source": [
        "clf_dtc.fit(X,y)"
      ],
      "metadata": {
        "colab": {
          "base_uri": "https://localhost:8080/"
        },
        "id": "J-teRIhaOOWd",
        "outputId": "822534ad-7d06-47f6-87d3-f4aa047ba1ac"
      },
      "execution_count": null,
      "outputs": [
        {
          "output_type": "execute_result",
          "data": {
            "text/plain": [
              "DecisionTreeClassifier()"
            ]
          },
          "metadata": {},
          "execution_count": 8
        }
      ]
    },
    {
      "cell_type": "markdown",
      "source": [
        "**f) Explicar un ejemplo de cómo los clasificadores obtenidos pueden ser usados en el\n",
        "futuro.**\n",
        "\n",
        "> Debido a que los correos electrónicos no deseados pueden robar datos personales, los clasificadores obtenidos podrian ser utilizados para identificar dichos correos y asi evitar fraudes o estafas. "
      ],
      "metadata": {
        "id": "UkIlg8obVvHh"
      }
    }
  ]
}